{
  "nbformat": 4,
  "nbformat_minor": 0,
  "metadata": {
    "colab": {
      "name": "Clasificación_Red_Neuronal_Sentimiento.ipynb",
      "provenance": [],
      "collapsed_sections": [
        "iq36UFvcYOyq",
        "6YZVkmb7tEvk"
      ],
      "mount_file_id": "1NbGUVPz8PMqzTR61rT0S3cS3CQaYNoew",
      "authorship_tag": "ABX9TyPA87RjwaCHJEwgqb35U+Bw",
      "include_colab_link": true
    },
    "kernelspec": {
      "name": "python3",
      "display_name": "Python 3"
    },
    "language_info": {
      "name": "python"
    }
  },
  "cells": [
    {
      "cell_type": "markdown",
      "metadata": {
        "id": "view-in-github",
        "colab_type": "text"
      },
      "source": [
        "<a href=\"https://colab.research.google.com/github/perlacueto/BecomingHuman/blob/master/Clasificaci%C3%B3n_Red_Neuronal_Sentimiento.ipynb\" target=\"_parent\"><img src=\"https://colab.research.google.com/assets/colab-badge.svg\" alt=\"Open In Colab\"/></a>"
      ]
    },
    {
      "cell_type": "markdown",
      "source": [
        "## Carga Bibliotecas"
      ],
      "metadata": {
        "id": "8WkFjAeB8K4F"
      }
    },
    {
      "cell_type": "code",
      "execution_count": 2,
      "metadata": {
        "colab": {
          "base_uri": "https://localhost:8080/"
        },
        "id": "bF2dcJDeS64X",
        "outputId": "7069a461-1270-4150-ec2a-cf7b14fef89b"
      },
      "outputs": [
        {
          "output_type": "stream",
          "name": "stdout",
          "text": [
            "Mounted at /content/drive\n"
          ]
        }
      ],
      "source": [
        "from google.colab import drive\n",
        "drive.mount('/content/drive')\n"
      ]
    },
    {
      "cell_type": "code",
      "source": [
        "!pip install unidecode"
      ],
      "metadata": {
        "colab": {
          "base_uri": "https://localhost:8080/"
        },
        "id": "OZAKY7ukwaNl",
        "outputId": "42f60cba-3ee9-44d0-d850-416a0d0f49f1"
      },
      "execution_count": 3,
      "outputs": [
        {
          "output_type": "stream",
          "name": "stdout",
          "text": [
            "Looking in indexes: https://pypi.org/simple, https://us-python.pkg.dev/colab-wheels/public/simple/\n",
            "Collecting unidecode\n",
            "  Downloading Unidecode-1.3.4-py3-none-any.whl (235 kB)\n",
            "\u001b[K     |████████████████████████████████| 235 kB 15.2 MB/s \n",
            "\u001b[?25hInstalling collected packages: unidecode\n",
            "Successfully installed unidecode-1.3.4\n"
          ]
        }
      ]
    },
    {
      "cell_type": "code",
      "source": [
        "import pandas as pd\n",
        "\n",
        "# Matplot\n",
        "import matplotlib.pyplot as plt\n",
        "%matplotlib inline\n",
        "\n",
        "# Scikit-learn\n",
        "from sklearn.model_selection import train_test_split\n",
        "from sklearn.preprocessing import LabelEncoder\n",
        "from sklearn.metrics import confusion_matrix, classification_report, accuracy_score\n",
        "from sklearn.manifold import TSNE\n",
        "from sklearn.feature_extraction.text import TfidfVectorizer\n",
        "#xgboost\n",
        "# Keras\n",
        "from keras.preprocessing.text import Tokenizer\n",
        "from keras.preprocessing.sequence import pad_sequences\n",
        "from keras.models import Sequential\n",
        "from keras.layers import Activation, Dense, Dropout, Embedding, Flatten, Conv1D, MaxPooling1D, LSTM\n",
        "from keras import utils\n",
        "from keras.callbacks import ReduceLROnPlateau, EarlyStopping\n",
        "from keras.models import load_model\n",
        "\n",
        "# nltk\n",
        "import nltk\n",
        "from nltk.corpus import stopwords\n",
        "from  nltk.stem import SnowballStemmer\n",
        "#from nltk.stem import WordNetLemmatizer\n",
        "\n",
        "# Word2vec\n",
        "import gensim\n",
        "from gensim.models import Word2Vec\n",
        "\n",
        "\n",
        "# Utility\n",
        "import re\n",
        "import numpy as np\n",
        "import os\n",
        "from collections import Counter\n",
        "import logging\n",
        "import time\n",
        "import pickle\n",
        "import itertools\n",
        "\n",
        "# Set log\n",
        "logging.basicConfig(format='%(asctime)s : %(levelname)s : %(message)s', level=logging.INFO)"
      ],
      "metadata": {
        "id": "AShXIt1KUhjK"
      },
      "execution_count": 4,
      "outputs": []
    },
    {
      "cell_type": "code",
      "source": [
        "DATASET_ENCODING = \"ISO-8859-1\"\n",
        "\n",
        "SEQUENCE_LENGTH = 600\n",
        "\n",
        "# SENTIMENT\n",
        "POSITIVE = \"POSITIVE\"\n",
        "NEGATIVE = \"NEGATIVE\"\n",
        "NEUTRAL = \"NEUTRAL\"\n",
        "SENTIMENT_THRESHOLDS = (0.4, 0.7)\n",
        "\n",
        "# EXPORT\n",
        "KERAS_MODEL = \"/content/drive/MyDrive/Mercantil/model.h5\"\n",
        "WORD2VEC_MODEL = \"/content/drive/MyDrive/Mercantil/model.w2v\"\n",
        "TOKENIZER_MODEL = \"/content/drive/MyDrive/Mercantil/tokenizer.pkl\"\n",
        "ENCODER_MODEL = \"/content/drive/MyDrive/Mercantil/encoder.pkl\""
      ],
      "metadata": {
        "id": "aTnoFEwfU5mx"
      },
      "execution_count": 5,
      "outputs": []
    },
    {
      "cell_type": "markdown",
      "source": [
        "## Carga modelo de palabras"
      ],
      "metadata": {
        "id": "iq36UFvcYOyq"
      }
    },
    {
      "cell_type": "code",
      "source": [
        "\n",
        "w2v_model = Word2Vec.load(WORD2VEC_MODEL)"
      ],
      "metadata": {
        "colab": {
          "base_uri": "https://localhost:8080/"
        },
        "id": "z6Biemy7VRwS",
        "outputId": "d0a2377b-4ff0-46e4-dcaa-2e524b6f1f3a"
      },
      "execution_count": 6,
      "outputs": [
        {
          "output_type": "stream",
          "name": "stderr",
          "text": [
            "2022-06-08 14:40:07,249 : INFO : loading Word2Vec object from /content/drive/MyDrive/Mercantil/model.w2v\n",
            "2022-06-08 14:40:07,720 : INFO : loading wv recursively from /content/drive/MyDrive/Mercantil/model.w2v.wv.* with mmap=None\n",
            "2022-06-08 14:40:07,724 : INFO : setting ignored attribute vectors_norm to None\n",
            "2022-06-08 14:40:07,735 : INFO : loading vocabulary recursively from /content/drive/MyDrive/Mercantil/model.w2v.vocabulary.* with mmap=None\n",
            "2022-06-08 14:40:07,741 : INFO : loading trainables recursively from /content/drive/MyDrive/Mercantil/model.w2v.trainables.* with mmap=None\n",
            "2022-06-08 14:40:07,743 : INFO : setting ignored attribute cum_table to None\n",
            "2022-06-08 14:40:07,746 : INFO : loaded /content/drive/MyDrive/Mercantil/model.w2v\n"
          ]
        }
      ]
    },
    {
      "cell_type": "markdown",
      "source": [
        "Pregunta vocabulario"
      ],
      "metadata": {
        "id": "pZUVU0QvYZwx"
      }
    },
    {
      "cell_type": "code",
      "source": [
        "w2v_model.most_similar(\"preguntar\")"
      ],
      "metadata": {
        "colab": {
          "base_uri": "https://localhost:8080/"
        },
        "id": "lEZAYkR4XHeh",
        "outputId": "64fe78f6-3c37-4fe3-e371-1f1b13d1c8ad"
      },
      "execution_count": 7,
      "outputs": [
        {
          "output_type": "stream",
          "name": "stderr",
          "text": [
            "/usr/local/lib/python3.7/dist-packages/ipykernel_launcher.py:1: DeprecationWarning: Call to deprecated `most_similar` (Method will be removed in 4.0.0, use self.wv.most_similar() instead).\n",
            "  \"\"\"Entry point for launching an IPython kernel.\n",
            "2022-06-08 14:40:07,771 : INFO : precomputing L2-norms of word weight vectors\n"
          ]
        },
        {
          "output_type": "execute_result",
          "data": {
            "text/plain": [
              "[('deber', 0.30300432443618774),\n",
              " ('reportar', 0.22915126383304596),\n",
              " ('completar', 0.21649152040481567),\n",
              " ('decir', 0.2083631455898285),\n",
              " ('justicia', 0.2032536268234253),\n",
              " ('robar', 0.20222626626491547),\n",
              " ('buscar', 0.20163574814796448),\n",
              " ('eficaz', 0.1849234700202942),\n",
              " ('no', 0.1840522587299347),\n",
              " ('ingresar', 0.17772991955280304)]"
            ]
          },
          "metadata": {},
          "execution_count": 7
        }
      ]
    },
    {
      "cell_type": "markdown",
      "source": [
        "# Modelo análisis de sentimiento"
      ],
      "metadata": {
        "id": "mqMbcDi9ZC1q"
      }
    },
    {
      "cell_type": "markdown",
      "source": [
        "### Cargar modelo análisis de Sentimiento"
      ],
      "metadata": {
        "id": "ZwVN0hYE7--0"
      }
    },
    {
      "cell_type": "code",
      "source": [
        "with open(TOKENIZER_MODEL, 'rb') as handle:\n",
        "    tokenizer = pickle.load(handle)"
      ],
      "metadata": {
        "id": "U73Ci3dsrklq"
      },
      "execution_count": 20,
      "outputs": []
    },
    {
      "cell_type": "code",
      "source": [
        "file = open(ENCODER_MODEL,'rb')\n",
        "file.seek(0)\n",
        "tokenizer = pickle.load(file)\n",
        "file.close()"
      ],
      "metadata": {
        "id": "OxwVA_9Ff-eY"
      },
      "execution_count": 9,
      "outputs": []
    },
    {
      "cell_type": "code",
      "source": [
        "tokenizer"
      ],
      "metadata": {
        "colab": {
          "base_uri": "https://localhost:8080/"
        },
        "id": "fW4ZjoeQqu-N",
        "outputId": "94b7f365-0e63-47b8-e441-4b7219bdafa6"
      },
      "execution_count": 21,
      "outputs": [
        {
          "output_type": "execute_result",
          "data": {
            "text/plain": [
              "<keras_preprocessing.text.Tokenizer at 0x7f0cb33842d0>"
            ]
          },
          "metadata": {},
          "execution_count": 21
        }
      ]
    },
    {
      "cell_type": "markdown",
      "source": [
        "Debe aparecer: <keras_preprocessing.text.Tokenizer at ...>\n"
      ],
      "metadata": {
        "id": "oY6DUlZLxC8X"
      }
    },
    {
      "cell_type": "markdown",
      "source": [
        "Si no vuelve a ejecutar la celda "
      ],
      "metadata": {
        "id": "ZeXEAFHUxLMo"
      }
    },
    {
      "cell_type": "code",
      "source": [
        "model = load_model(KERAS_MODEL)"
      ],
      "metadata": {
        "id": "TGCmlwzDZ0LS"
      },
      "execution_count": 11,
      "outputs": []
    },
    {
      "cell_type": "code",
      "source": [
        "def decode_sentiment(score, include_neutral=False):\n",
        "    if include_neutral:        \n",
        "        label = NEUTRAL\n",
        "        if score <= SENTIMENT_THRESHOLDS[0]:\n",
        "            label = NEGATIVE\n",
        "        elif score >= SENTIMENT_THRESHOLDS[1]:\n",
        "            label = POSITIVE\n",
        "\n",
        "        return label\n",
        "    else:\n",
        "        return NEGATIVE if score < 0.5 else POSITIVE"
      ],
      "metadata": {
        "id": "nBFkrbZCX7fA"
      },
      "execution_count": 12,
      "outputs": []
    },
    {
      "cell_type": "code",
      "source": [
        "def predict(text, include_neutral=False):\n",
        "    start_at = time.time()\n",
        "    # Tokenize text\n",
        "    x_test = pad_sequences(tokenizer.texts_to_sequences([text]), maxlen=SEQUENCE_LENGTH)\n",
        "    # Predict\n",
        "    score = model.predict([x_test])[0]\n",
        "    # Decode sentiment\n",
        "    label = decode_sentiment(score, include_neutral=include_neutral)\n",
        "\n",
        "    return {\"label\": label, \"score\": float(score),\n",
        "       \"elapsed_time\": time.time()-start_at}  "
      ],
      "metadata": {
        "id": "n1v2uEX6ZpnR"
      },
      "execution_count": 13,
      "outputs": []
    },
    {
      "cell_type": "markdown",
      "source": [
        "## Clasificación Comentarios"
      ],
      "metadata": {
        "id": "0DhAML2csr4x"
      }
    },
    {
      "cell_type": "markdown",
      "source": [
        "### **Cargar Herramientas**"
      ],
      "metadata": {
        "id": "LkIakQHC0HAQ"
      }
    },
    {
      "cell_type": "code",
      "source": [
        "# nltk\n",
        "import nltk\n",
        "from nltk.corpus import stopwords\n",
        "from  nltk.stem import SnowballStemmer\n",
        "#from nltk.stem import WordNetLemmatizer\n",
        "\n",
        "#Replace all non alphabets\n",
        "from unidecode import unidecode\n",
        "\n",
        "#For lematization\n",
        "import spacy\n"
      ],
      "metadata": {
        "id": "3iv9tR_iz8OW"
      },
      "execution_count": 14,
      "outputs": []
    },
    {
      "cell_type": "code",
      "source": [
        "nltk.download('wordnet')\n",
        "nltk.download('stopwords')\n",
        "stop_words = stopwords.words(\"spanish\")\n",
        "stemmer = SnowballStemmer(\"spanish\")#extrae la raíz de una palabra\n",
        "!spacy download es\n",
        "lematiza = spacy.load(\"es\")"
      ],
      "metadata": {
        "colab": {
          "base_uri": "https://localhost:8080/"
        },
        "id": "Ttw1MVmcz_me",
        "outputId": "61addb3f-11b2-4e1f-d042-ed885dc1d21d"
      },
      "execution_count": 15,
      "outputs": [
        {
          "output_type": "stream",
          "name": "stdout",
          "text": [
            "[nltk_data] Downloading package wordnet to /root/nltk_data...\n",
            "[nltk_data]   Unzipping corpora/wordnet.zip.\n",
            "[nltk_data] Downloading package stopwords to /root/nltk_data...\n",
            "[nltk_data]   Unzipping corpora/stopwords.zip.\n",
            "Looking in indexes: https://pypi.org/simple, https://us-python.pkg.dev/colab-wheels/public/simple/\n",
            "Collecting es_core_news_sm==2.2.5\n",
            "  Downloading https://github.com/explosion/spacy-models/releases/download/es_core_news_sm-2.2.5/es_core_news_sm-2.2.5.tar.gz (16.2 MB)\n",
            "\u001b[K     |████████████████████████████████| 16.2 MB 1.6 MB/s \n",
            "\u001b[?25hRequirement already satisfied: spacy>=2.2.2 in /usr/local/lib/python3.7/dist-packages (from es_core_news_sm==2.2.5) (2.2.4)\n",
            "Requirement already satisfied: blis<0.5.0,>=0.4.0 in /usr/local/lib/python3.7/dist-packages (from spacy>=2.2.2->es_core_news_sm==2.2.5) (0.4.1)\n",
            "Requirement already satisfied: catalogue<1.1.0,>=0.0.7 in /usr/local/lib/python3.7/dist-packages (from spacy>=2.2.2->es_core_news_sm==2.2.5) (1.0.0)\n",
            "Requirement already satisfied: thinc==7.4.0 in /usr/local/lib/python3.7/dist-packages (from spacy>=2.2.2->es_core_news_sm==2.2.5) (7.4.0)\n",
            "Requirement already satisfied: srsly<1.1.0,>=1.0.2 in /usr/local/lib/python3.7/dist-packages (from spacy>=2.2.2->es_core_news_sm==2.2.5) (1.0.5)\n",
            "Requirement already satisfied: cymem<2.1.0,>=2.0.2 in /usr/local/lib/python3.7/dist-packages (from spacy>=2.2.2->es_core_news_sm==2.2.5) (2.0.6)\n",
            "Requirement already satisfied: murmurhash<1.1.0,>=0.28.0 in /usr/local/lib/python3.7/dist-packages (from spacy>=2.2.2->es_core_news_sm==2.2.5) (1.0.7)\n",
            "Requirement already satisfied: preshed<3.1.0,>=3.0.2 in /usr/local/lib/python3.7/dist-packages (from spacy>=2.2.2->es_core_news_sm==2.2.5) (3.0.6)\n",
            "Requirement already satisfied: tqdm<5.0.0,>=4.38.0 in /usr/local/lib/python3.7/dist-packages (from spacy>=2.2.2->es_core_news_sm==2.2.5) (4.64.0)\n",
            "Requirement already satisfied: plac<1.2.0,>=0.9.6 in /usr/local/lib/python3.7/dist-packages (from spacy>=2.2.2->es_core_news_sm==2.2.5) (1.1.3)\n",
            "Requirement already satisfied: requests<3.0.0,>=2.13.0 in /usr/local/lib/python3.7/dist-packages (from spacy>=2.2.2->es_core_news_sm==2.2.5) (2.23.0)\n",
            "Requirement already satisfied: wasabi<1.1.0,>=0.4.0 in /usr/local/lib/python3.7/dist-packages (from spacy>=2.2.2->es_core_news_sm==2.2.5) (0.9.1)\n",
            "Requirement already satisfied: setuptools in /usr/local/lib/python3.7/dist-packages (from spacy>=2.2.2->es_core_news_sm==2.2.5) (57.4.0)\n",
            "Requirement already satisfied: numpy>=1.15.0 in /usr/local/lib/python3.7/dist-packages (from spacy>=2.2.2->es_core_news_sm==2.2.5) (1.21.6)\n",
            "Requirement already satisfied: importlib-metadata>=0.20 in /usr/local/lib/python3.7/dist-packages (from catalogue<1.1.0,>=0.0.7->spacy>=2.2.2->es_core_news_sm==2.2.5) (4.11.4)\n",
            "Requirement already satisfied: typing-extensions>=3.6.4 in /usr/local/lib/python3.7/dist-packages (from importlib-metadata>=0.20->catalogue<1.1.0,>=0.0.7->spacy>=2.2.2->es_core_news_sm==2.2.5) (4.2.0)\n",
            "Requirement already satisfied: zipp>=0.5 in /usr/local/lib/python3.7/dist-packages (from importlib-metadata>=0.20->catalogue<1.1.0,>=0.0.7->spacy>=2.2.2->es_core_news_sm==2.2.5) (3.8.0)\n",
            "Requirement already satisfied: urllib3!=1.25.0,!=1.25.1,<1.26,>=1.21.1 in /usr/local/lib/python3.7/dist-packages (from requests<3.0.0,>=2.13.0->spacy>=2.2.2->es_core_news_sm==2.2.5) (1.24.3)\n",
            "Requirement already satisfied: certifi>=2017.4.17 in /usr/local/lib/python3.7/dist-packages (from requests<3.0.0,>=2.13.0->spacy>=2.2.2->es_core_news_sm==2.2.5) (2022.5.18.1)\n",
            "Requirement already satisfied: idna<3,>=2.5 in /usr/local/lib/python3.7/dist-packages (from requests<3.0.0,>=2.13.0->spacy>=2.2.2->es_core_news_sm==2.2.5) (2.10)\n",
            "Requirement already satisfied: chardet<4,>=3.0.2 in /usr/local/lib/python3.7/dist-packages (from requests<3.0.0,>=2.13.0->spacy>=2.2.2->es_core_news_sm==2.2.5) (3.0.4)\n",
            "Building wheels for collected packages: es-core-news-sm\n",
            "  Building wheel for es-core-news-sm (setup.py) ... \u001b[?25l\u001b[?25hdone\n",
            "  Created wheel for es-core-news-sm: filename=es_core_news_sm-2.2.5-py3-none-any.whl size=16172933 sha256=a873134961f45e17add010aa3ea6a7e76717ccc97fd231e0305bc5c510d934ac\n",
            "  Stored in directory: /tmp/pip-ephem-wheel-cache-tas62sjl/wheels/21/8d/a9/6c1a2809c55dd22cd9644ae503a52ba6206b04aa57ba83a3d8\n",
            "Successfully built es-core-news-sm\n",
            "Installing collected packages: es-core-news-sm\n",
            "Successfully installed es-core-news-sm-2.2.5\n",
            "\u001b[38;5;2m✔ Download and installation successful\u001b[0m\n",
            "You can now load the model via spacy.load('es_core_news_sm')\n",
            "\u001b[38;5;2m✔ Linking successful\u001b[0m\n",
            "/usr/local/lib/python3.7/dist-packages/es_core_news_sm -->\n",
            "/usr/local/lib/python3.7/dist-packages/spacy/data/es\n",
            "You can now load the model via spacy.load('es')\n"
          ]
        }
      ]
    },
    {
      "cell_type": "code",
      "source": [
        "palabras = {'madurar':'maduro','clavar':'clave','paginar':'pagina','sera':'ser','seguira':'seguir','divisar':'divisa',\n",
        "            'lonuevo':'nuevo','deberiar':'deber','cumpliraa+-os':'cumpleanos','nadar':'nada','pudrir':'poder',\n",
        "            'sii':'si','ye':'si','parir':'para','cariaa+-o':'carino','app':'aplicacion','gracia':'gracias',\n",
        "            'fallir':'fallar','aa+-os':'ano','huma?anaird':'humanidad','linear':'linea','contactarer':'contactar',\n",
        "            'naciinal':'nacional','ma?anada':'mañana','estarfaeued':'estar','eaa':'esa','quebhay':'que hay','enviir':'enviar',\n",
        "            'mercanril':'mercantil','estrellar':'estrella','malisimir':'malo','gustariar':'gustar','cencilla':'sencillo',\n",
        "            'sencillar':'sencillo'\n",
        "           }"
      ],
      "metadata": {
        "id": "CF2VzdKpw_gA"
      },
      "execution_count": 16,
      "outputs": []
    },
    {
      "cell_type": "code",
      "source": [
        "emojis = {u'\\U0001F3E6':' banco',u'\\U0001F601':' sonrisa', u'\\U0001F602':' risa', u'\\U0001F603':' sonrisa', u'\\U0001F604':' sonrisa',u'\\U0001F605':' sonrisa',\n",
        "          u'\\U0001F609':' guiño',u'\\U0001F60A':' sonrisa', u'\\U0001F612':' desagrado',u'\\U0001F613':' desagrado', u'\\U0001F614':' triste',u'\\U0001F616':' triste',\n",
        "          u'\\U0001F618':' beso',u'\\U0001F61A':' beso', u'\\U0001F61C':' burla', u'\\U0001F61D':' burla', u'\\U0001F61E':' triste', u'\\U0001F620':' enojo',\n",
        "          u'\\U0001F621':' enojo', u'\\U0001F622':' triste', u'\\U0001F623':' frustración', u'\\U0001F624':' enojo', u'\\U0001F625':' preocupado', \n",
        "          u'\\U0001F629':' frustrado', u'\\U0001F62A':' triste', u'\\U0001F62D':' triste', u'\\U0001F62B':' cansado',u'\\U0001F630':' preocupado',\n",
        "          u'\\U0001F633':' sonrojado',u'\\U0001F638':' risa',u'\\U0001F639':' risa', u'\\U0001F63A':' risa', u'\\U0001F63B':' me encanta', u'\\U0001F60B':' me encanta',\n",
        "          u'\\U0001F63F':' triste', u'\\U0001F645':' bloqueo',  u'\\U0001F645':' bloqueo', u'\\U0001F64F':' rezar', u'\\U00002764':' corazón', u'\\U0001F44D':' bien',\n",
        "          u'\\U0001F44E':' mal',  u'\\U0001F44F':' aplauso', u'\\U0001F46A':' familia', u'\\U0001F47B':' fantasma', u'\\U0001F47F':' enojado', u'\\U0001F4A9':' mierda',\n",
        "          u'\\U0001F4AA':' fuerza', u'\\U0001F610':' neutral', u'\\U0001F611':' serio', u'\\U0001F615':' confundido', u'\\U0001F61F':' preocupado', \n",
        "          u'\\U0001F627':' angustiado', u'\\U0001F31E':' sol', u'\\U0001f1fb\\U0001f1ea':' Venezuela', u'\\U0001F628':' miedo', u'\\U0001F631':' asustado',\n",
        "          u'\t\\U0001f926\\u200D\\u2642\\uFE0F':' hombremanocara', u':)': 'sonrisa', ':-)': 'sonrisa', ';d': 'guiño', u'\\U0001F926':'mujermanocara',\n",
        "          ':-E': 'vampiro', ':(': 'triste', '@MercantilBanco' : 'MercantilBanco',\n",
        "          ':-(': 'triste', ':-<': 'triste', ':P': 'burla', ':O': 'sorpresa',\n",
        "          ':-@': 'shock', ':@': 'shock',':-$': 'confusion', ':\\\\': 'molesto', \n",
        "          ':#': 'mudo', ':X': 'mudo', ':^)': 'sonrisa', ':-&': 'confundido', '$_$': 'avaro',\n",
        "          '@@': 'indiferente', ':-!': 'confundido', ':-D': 'sonrisa', ':-0': 'gritar', 'O.o': 'confundido',\n",
        "          '<(-_-)>': 'robot', 'd[-_-]b': 'dj', \":'-)\": 'triste', ';)': 'guiño', \n",
        "          ';-)': 'guiño', 'O:-)': 'angel','O*-)': 'angel','(:-D': 'fantasma', '=^.^=': 'gato'}"
      ],
      "metadata": {
        "id": "N4g_45f3xGDA"
      },
      "execution_count": 17,
      "outputs": []
    },
    {
      "cell_type": "code",
      "source": [
        "def preprocess(tweet, stem=False):\n",
        "    \n",
        "    # Create Lemmatizer and Stemmer.\n",
        "    #wordLemm = WordNetLemmatizer()\n",
        "    \n",
        "    # Defining regex patterns.\n",
        "    urlPattern        = r\"((http://)[^ ]*|(https://)[^ ]*|( www\\.)[^ ]*)\"\n",
        "    userPattern       = '@[^\\s]+'\n",
        "    alphaPattern      = \"[^a-zA-Z0-9]\"\n",
        "    sequencePattern   = r\"(.)\\1\\1+\"\n",
        "    seqReplacePattern = r\"\\1\\1\"\n",
        "    \n",
        "    tweet = tweet.lower()\n",
        "        \n",
        "    # Replace all URls with 'URL'\n",
        "    tweet = re.sub(urlPattern,' URL',tweet)\n",
        "    # Replace all emojis.\n",
        "    for emoji in emojis.keys():\n",
        "      tweet = tweet.replace(emoji, \"EMOJI\" + emojis[emoji]+\" \")        \n",
        "    # Replace @USERNAME to 'USER'.\n",
        "    tweet = re.sub(userPattern,'', tweet)        \n",
        "    # Replace all non alphabets.\n",
        "    tweet = unidecode(tweet)\n",
        "    # Replace 3 or more consecutive letters by 2 letter.\n",
        "    tweet = re.sub(sequencePattern, seqReplacePattern, tweet)\n",
        "    #Lematiza\n",
        "    tweet = lematiza(tweet)\n",
        "    lemmas = [tok.lemma_.lower() for tok in tweet]\n",
        "    tokens = []\n",
        "    for token in lemmas:\n",
        "          # Checking if the word is a stopword.\n",
        "          if token not in stop_words:\n",
        "            #cheching if word has more than one letter\n",
        "            for palabra in palabras.keys():\n",
        "              token = token.replace(palabra, palabras[palabra])\n",
        "            if len(token)>1:\n",
        "              if stem:\n",
        "                tokens.append(stemmer.stem(token))\n",
        "              else:\n",
        "                tokens.append(token)\n",
        "    return \" \".join(tokens)\n",
        "\n",
        "\n",
        "        "
      ],
      "metadata": {
        "id": "6mdeO-ZDw1xI"
      },
      "execution_count": 18,
      "outputs": []
    },
    {
      "cell_type": "markdown",
      "source": [
        "### **Predicción Simple**"
      ],
      "metadata": {
        "id": "xmYn0FrjsMzn"
      }
    },
    {
      "cell_type": "code",
      "source": [
        "predict(preprocess(\"Venezuela es el único país donde solicitar la reposición de una tarjeta te dicen que es un favor y no un servicio. Gracias @MercantilBanco\"))"
      ],
      "metadata": {
        "colab": {
          "base_uri": "https://localhost:8080/"
        },
        "id": "hQt2CXE4ZzEB",
        "outputId": "54665e1a-1eb6-4bdc-f17c-00b80b48fecd"
      },
      "execution_count": 115,
      "outputs": [
        {
          "output_type": "execute_result",
          "data": {
            "text/plain": [
              "{'elapsed_time': 0.12153840065002441,\n",
              " 'label': 'NEGATIVE',\n",
              " 'score': 0.4928320050239563}"
            ]
          },
          "metadata": {},
          "execution_count": 115
        }
      ]
    },
    {
      "cell_type": "code",
      "source": [
        "predict(preprocess('Gracias'))"
      ],
      "metadata": {
        "colab": {
          "base_uri": "https://localhost:8080/"
        },
        "id": "YZ42Qsf930Bp",
        "outputId": "392ee6b4-5537-4f55-9c19-beeb4a010818"
      },
      "execution_count": 38,
      "outputs": [
        {
          "output_type": "execute_result",
          "data": {
            "text/plain": [
              "{'elapsed_time': 0.11188554763793945,\n",
              " 'label': 'POSITIVE',\n",
              " 'score': 0.6223584413528442}"
            ]
          },
          "metadata": {},
          "execution_count": 38
        }
      ]
    },
    {
      "cell_type": "code",
      "source": [
        "predict(preprocess(\"deberia ir a una oficina para cambiar mi numero de telefono?\"))"
      ],
      "metadata": {
        "colab": {
          "base_uri": "https://localhost:8080/"
        },
        "id": "lwFIIFwgyDow",
        "outputId": "7889d7f4-1fc9-482a-f787-f187a1c096ac"
      },
      "execution_count": 25,
      "outputs": [
        {
          "output_type": "execute_result",
          "data": {
            "text/plain": [
              "{'elapsed_time': 0.13450002670288086,\n",
              " 'label': 'POSITIVE',\n",
              " 'score': 0.5431056618690491}"
            ]
          },
          "metadata": {},
          "execution_count": 25
        }
      ]
    },
    {
      "cell_type": "code",
      "source": [
        "predict(preprocess(\"Estoy encantada con la atención que recibí\"))"
      ],
      "metadata": {
        "colab": {
          "base_uri": "https://localhost:8080/"
        },
        "id": "6L7jbI8PTHYu",
        "outputId": "d1e7753d-2778-497f-a121-1cfe0290ad95"
      },
      "execution_count": 118,
      "outputs": [
        {
          "output_type": "execute_result",
          "data": {
            "text/plain": [
              "{'elapsed_time': 0.10958695411682129,\n",
              " 'label': 'POSITIVE',\n",
              " 'score': 0.5502634644508362}"
            ]
          },
          "metadata": {},
          "execution_count": 118
        }
      ]
    },
    {
      "cell_type": "code",
      "source": [
        "predict(preprocess(\"Ayer me depositaron, desde tpago\"))"
      ],
      "metadata": {
        "colab": {
          "base_uri": "https://localhost:8080/"
        },
        "id": "OLEVSdaJbdz9",
        "outputId": "a25faeb9-dbb4-4690-fe6a-c7c36a41102a"
      },
      "execution_count": 123,
      "outputs": [
        {
          "output_type": "execute_result",
          "data": {
            "text/plain": [
              "{'elapsed_time': 0.11563849449157715,\n",
              " 'label': 'POSITIVE',\n",
              " 'score': 0.6358295679092407}"
            ]
          },
          "metadata": {},
          "execution_count": 123
        }
      ]
    },
    {
      "cell_type": "markdown",
      "source": [
        "### **Inspecciona tabla de comentarios**"
      ],
      "metadata": {
        "id": "6YZVkmb7tEvk"
      }
    },
    {
      "cell_type": "markdown",
      "source": [
        " Cargar tabla para analizar"
      ],
      "metadata": {
        "id": "I1z8GnKlp77_"
      }
    },
    {
      "cell_type": "code",
      "source": [
        "comentarios = pd.read_excel('/content/drive/MyDrive/Mercantil/analisis_influencer/comen_top_feb.xlsx')"
      ],
      "metadata": {
        "id": "BqmxT9kqgiyO"
      },
      "execution_count": 72,
      "outputs": []
    },
    {
      "cell_type": "code",
      "source": [
        "comentarios.info()"
      ],
      "metadata": {
        "colab": {
          "base_uri": "https://localhost:8080/"
        },
        "id": "Z33iEb6Ys10R",
        "outputId": "dc8650f4-031a-4d3c-cd2e-da3601f77c16"
      },
      "execution_count": 75,
      "outputs": [
        {
          "output_type": "stream",
          "name": "stdout",
          "text": [
            "<class 'pandas.core.frame.DataFrame'>\n",
            "RangeIndex: 57 entries, 0 to 56\n",
            "Data columns (total 4 columns):\n",
            " #   Column       Non-Null Count  Dtype         \n",
            "---  ------       --------------  -----         \n",
            " 0   user_id      57 non-null     float64       \n",
            " 1   screen_name  57 non-null     object        \n",
            " 2   created_at   57 non-null     datetime64[ns]\n",
            " 3   text         57 non-null     object        \n",
            "dtypes: datetime64[ns](1), float64(1), object(2)\n",
            "memory usage: 1.9+ KB\n"
          ]
        }
      ]
    },
    {
      "cell_type": "markdown",
      "source": [
        "**Debe tener una columna con nombre 'text'...**\n",
        "['user_id', 'screen_name', 'created_at', 'text']"
      ],
      "metadata": {
        "id": "eyEQ9HHutpbt"
      }
    },
    {
      "cell_type": "code",
      "source": [
        "comentarios.columns"
      ],
      "metadata": {
        "colab": {
          "base_uri": "https://localhost:8080/"
        },
        "id": "c69L2akDthfl",
        "outputId": "bd852ffc-f251-4ac9-dd4f-cb5f0442a024"
      },
      "execution_count": 44,
      "outputs": [
        {
          "output_type": "execute_result",
          "data": {
            "text/plain": [
              "Index(['user_id', 'screen_name', 'created_at', 'text'], dtype='object')"
            ]
          },
          "metadata": {},
          "execution_count": 44
        }
      ]
    },
    {
      "cell_type": "markdown",
      "source": [
        "**Limpia data**"
      ],
      "metadata": {
        "id": "VgvC_PYdtV6F"
      }
    },
    {
      "cell_type": "code",
      "source": [
        "comentarios = comentarios.drop(['Unnamed: 0'], axis=1) #elimina alguna columna en especial"
      ],
      "metadata": {
        "id": "m4bJ5oXhtKZp"
      },
      "execution_count": 74,
      "outputs": []
    },
    {
      "cell_type": "code",
      "source": [
        "df = df.dropna() #elimina nulos"
      ],
      "metadata": {
        "id": "YdcVPxMfughQ"
      },
      "execution_count": null,
      "outputs": []
    },
    {
      "cell_type": "code",
      "source": [
        "comentarios = comentarios.drop_duplicates()#elimina duplicados"
      ],
      "metadata": {
        "id": "23WLkkECtWGY"
      },
      "execution_count": null,
      "outputs": []
    },
    {
      "cell_type": "markdown",
      "source": [
        "**Agregar columnas que tendrán la clasificación del sentimiento:** Target y Score"
      ],
      "metadata": {
        "id": "YB3Cf8Dnt1Cx"
      }
    },
    {
      "cell_type": "code",
      "source": [
        "comentarios = comentarios.assign(text_process=np.nan) #texto lematizado\n",
        "comentarios = comentarios.assign(target=np.nan) #clasificación\n",
        "comentarios = comentarios.assign(score=np.nan) #score\n",
        "comentarios.head()"
      ],
      "metadata": {
        "colab": {
          "base_uri": "https://localhost:8080/",
          "height": 206
        },
        "id": "cmrkD1VMtZ9L",
        "outputId": "643fd252-a436-4a84-ffde-92e9189ba081"
      },
      "execution_count": 76,
      "outputs": [
        {
          "output_type": "execute_result",
          "data": {
            "text/plain": [
              "        user_id    screen_name          created_at  \\\n",
              "0  1.913194e+08    TitoCorona9 2022-02-24 15:55:14   \n",
              "1  4.652935e+09       ElGaboRD 2022-02-03 21:53:15   \n",
              "2  1.414676e+18  RealSeasonNT1 2022-02-10 20:02:40   \n",
              "3  1.926909e+08   granfran5012 2021-10-17 00:24:22   \n",
              "4  1.926909e+08   granfran5012 2022-02-23 17:48:41   \n",
              "\n",
              "                                                text  text_process  target  \\\n",
              "0  Cual consideran el mejor banco de Venezuela y ...           NaN     NaN   \n",
              "1  Listado de Quiebra de Bancos de los gobiernos ...           NaN     NaN   \n",
              "2  Esta parte de la cola de emisión de bonos del ...           NaN     NaN   \n",
              "3  Si sospechas que has sido víctima de fraude, d...           NaN     NaN   \n",
              "4  @granfran5012 @MercantilBanco @SudebanInforma ...           NaN     NaN   \n",
              "\n",
              "   score  \n",
              "0    NaN  \n",
              "1    NaN  \n",
              "2    NaN  \n",
              "3    NaN  \n",
              "4    NaN  "
            ],
            "text/html": [
              "\n",
              "  <div id=\"df-fd8aa95f-9eef-49bb-b32d-2726f6eef69e\">\n",
              "    <div class=\"colab-df-container\">\n",
              "      <div>\n",
              "<style scoped>\n",
              "    .dataframe tbody tr th:only-of-type {\n",
              "        vertical-align: middle;\n",
              "    }\n",
              "\n",
              "    .dataframe tbody tr th {\n",
              "        vertical-align: top;\n",
              "    }\n",
              "\n",
              "    .dataframe thead th {\n",
              "        text-align: right;\n",
              "    }\n",
              "</style>\n",
              "<table border=\"1\" class=\"dataframe\">\n",
              "  <thead>\n",
              "    <tr style=\"text-align: right;\">\n",
              "      <th></th>\n",
              "      <th>user_id</th>\n",
              "      <th>screen_name</th>\n",
              "      <th>created_at</th>\n",
              "      <th>text</th>\n",
              "      <th>text_process</th>\n",
              "      <th>target</th>\n",
              "      <th>score</th>\n",
              "    </tr>\n",
              "  </thead>\n",
              "  <tbody>\n",
              "    <tr>\n",
              "      <th>0</th>\n",
              "      <td>1.913194e+08</td>\n",
              "      <td>TitoCorona9</td>\n",
              "      <td>2022-02-24 15:55:14</td>\n",
              "      <td>Cual consideran el mejor banco de Venezuela y ...</td>\n",
              "      <td>NaN</td>\n",
              "      <td>NaN</td>\n",
              "      <td>NaN</td>\n",
              "    </tr>\n",
              "    <tr>\n",
              "      <th>1</th>\n",
              "      <td>4.652935e+09</td>\n",
              "      <td>ElGaboRD</td>\n",
              "      <td>2022-02-03 21:53:15</td>\n",
              "      <td>Listado de Quiebra de Bancos de los gobiernos ...</td>\n",
              "      <td>NaN</td>\n",
              "      <td>NaN</td>\n",
              "      <td>NaN</td>\n",
              "    </tr>\n",
              "    <tr>\n",
              "      <th>2</th>\n",
              "      <td>1.414676e+18</td>\n",
              "      <td>RealSeasonNT1</td>\n",
              "      <td>2022-02-10 20:02:40</td>\n",
              "      <td>Esta parte de la cola de emisión de bonos del ...</td>\n",
              "      <td>NaN</td>\n",
              "      <td>NaN</td>\n",
              "      <td>NaN</td>\n",
              "    </tr>\n",
              "    <tr>\n",
              "      <th>3</th>\n",
              "      <td>1.926909e+08</td>\n",
              "      <td>granfran5012</td>\n",
              "      <td>2021-10-17 00:24:22</td>\n",
              "      <td>Si sospechas que has sido víctima de fraude, d...</td>\n",
              "      <td>NaN</td>\n",
              "      <td>NaN</td>\n",
              "      <td>NaN</td>\n",
              "    </tr>\n",
              "    <tr>\n",
              "      <th>4</th>\n",
              "      <td>1.926909e+08</td>\n",
              "      <td>granfran5012</td>\n",
              "      <td>2022-02-23 17:48:41</td>\n",
              "      <td>@granfran5012 @MercantilBanco @SudebanInforma ...</td>\n",
              "      <td>NaN</td>\n",
              "      <td>NaN</td>\n",
              "      <td>NaN</td>\n",
              "    </tr>\n",
              "  </tbody>\n",
              "</table>\n",
              "</div>\n",
              "      <button class=\"colab-df-convert\" onclick=\"convertToInteractive('df-fd8aa95f-9eef-49bb-b32d-2726f6eef69e')\"\n",
              "              title=\"Convert this dataframe to an interactive table.\"\n",
              "              style=\"display:none;\">\n",
              "        \n",
              "  <svg xmlns=\"http://www.w3.org/2000/svg\" height=\"24px\"viewBox=\"0 0 24 24\"\n",
              "       width=\"24px\">\n",
              "    <path d=\"M0 0h24v24H0V0z\" fill=\"none\"/>\n",
              "    <path d=\"M18.56 5.44l.94 2.06.94-2.06 2.06-.94-2.06-.94-.94-2.06-.94 2.06-2.06.94zm-11 1L8.5 8.5l.94-2.06 2.06-.94-2.06-.94L8.5 2.5l-.94 2.06-2.06.94zm10 10l.94 2.06.94-2.06 2.06-.94-2.06-.94-.94-2.06-.94 2.06-2.06.94z\"/><path d=\"M17.41 7.96l-1.37-1.37c-.4-.4-.92-.59-1.43-.59-.52 0-1.04.2-1.43.59L10.3 9.45l-7.72 7.72c-.78.78-.78 2.05 0 2.83L4 21.41c.39.39.9.59 1.41.59.51 0 1.02-.2 1.41-.59l7.78-7.78 2.81-2.81c.8-.78.8-2.07 0-2.86zM5.41 20L4 18.59l7.72-7.72 1.47 1.35L5.41 20z\"/>\n",
              "  </svg>\n",
              "      </button>\n",
              "      \n",
              "  <style>\n",
              "    .colab-df-container {\n",
              "      display:flex;\n",
              "      flex-wrap:wrap;\n",
              "      gap: 12px;\n",
              "    }\n",
              "\n",
              "    .colab-df-convert {\n",
              "      background-color: #E8F0FE;\n",
              "      border: none;\n",
              "      border-radius: 50%;\n",
              "      cursor: pointer;\n",
              "      display: none;\n",
              "      fill: #1967D2;\n",
              "      height: 32px;\n",
              "      padding: 0 0 0 0;\n",
              "      width: 32px;\n",
              "    }\n",
              "\n",
              "    .colab-df-convert:hover {\n",
              "      background-color: #E2EBFA;\n",
              "      box-shadow: 0px 1px 2px rgba(60, 64, 67, 0.3), 0px 1px 3px 1px rgba(60, 64, 67, 0.15);\n",
              "      fill: #174EA6;\n",
              "    }\n",
              "\n",
              "    [theme=dark] .colab-df-convert {\n",
              "      background-color: #3B4455;\n",
              "      fill: #D2E3FC;\n",
              "    }\n",
              "\n",
              "    [theme=dark] .colab-df-convert:hover {\n",
              "      background-color: #434B5C;\n",
              "      box-shadow: 0px 1px 3px 1px rgba(0, 0, 0, 0.15);\n",
              "      filter: drop-shadow(0px 1px 2px rgba(0, 0, 0, 0.3));\n",
              "      fill: #FFFFFF;\n",
              "    }\n",
              "  </style>\n",
              "\n",
              "      <script>\n",
              "        const buttonEl =\n",
              "          document.querySelector('#df-fd8aa95f-9eef-49bb-b32d-2726f6eef69e button.colab-df-convert');\n",
              "        buttonEl.style.display =\n",
              "          google.colab.kernel.accessAllowed ? 'block' : 'none';\n",
              "\n",
              "        async function convertToInteractive(key) {\n",
              "          const element = document.querySelector('#df-fd8aa95f-9eef-49bb-b32d-2726f6eef69e');\n",
              "          const dataTable =\n",
              "            await google.colab.kernel.invokeFunction('convertToInteractive',\n",
              "                                                     [key], {});\n",
              "          if (!dataTable) return;\n",
              "\n",
              "          const docLinkHtml = 'Like what you see? Visit the ' +\n",
              "            '<a target=\"_blank\" href=https://colab.research.google.com/notebooks/data_table.ipynb>data table notebook</a>'\n",
              "            + ' to learn more about interactive tables.';\n",
              "          element.innerHTML = '';\n",
              "          dataTable['output_type'] = 'display_data';\n",
              "          await google.colab.output.renderOutput(dataTable, element);\n",
              "          const docLink = document.createElement('div');\n",
              "          docLink.innerHTML = docLinkHtml;\n",
              "          element.appendChild(docLink);\n",
              "        }\n",
              "      </script>\n",
              "    </div>\n",
              "  </div>\n",
              "  "
            ]
          },
          "metadata": {},
          "execution_count": 76
        }
      ]
    },
    {
      "cell_type": "markdown",
      "source": [
        "### **Procesar texto en tabla**"
      ],
      "metadata": {
        "id": "5z9wy5s5wGtE"
      }
    },
    {
      "cell_type": "code",
      "source": [
        "comentarios.text_process = comentarios.text.apply(lambda x: str(x)) #convierte en texto\n",
        "comentarios.text_process = comentarios.text.apply(lambda x: preprocess(x)) # lematiza\n",
        "comentarios.head() #muestra"
      ],
      "metadata": {
        "colab": {
          "base_uri": "https://localhost:8080/",
          "height": 337
        },
        "id": "RG2tHbbRwM_b",
        "outputId": "12ff937d-2c92-4a77-e436-d13d238aaca4"
      },
      "execution_count": 99,
      "outputs": [
        {
          "output_type": "execute_result",
          "data": {
            "text/plain": [
              "        user_id    screen_name          created_at  \\\n",
              "0  1.913194e+08    TitoCorona9 2022-02-24 15:55:14   \n",
              "1  4.652935e+09       ElGaboRD 2022-02-03 21:53:15   \n",
              "2  1.414676e+18  RealSeasonNT1 2022-02-10 20:02:40   \n",
              "3  1.926909e+08   granfran5012 2021-10-17 00:24:22   \n",
              "4  1.926909e+08   granfran5012 2022-02-23 17:48:41   \n",
              "\n",
              "                                                text  \\\n",
              "0  Cual consideran el mejor banco de Venezuela y ...   \n",
              "1  Listado de Quiebra de Bancos de los gobiernos ...   \n",
              "2  Esta parte de la cola de emisión de bonos del ...   \n",
              "3  Si sospechas que has sido víctima de fraude, d...   \n",
              "4  @granfran5012 @MercantilBanco @SudebanInforma ...   \n",
              "\n",
              "                                        text_process  target  score  \n",
              "0         considerar mejor banco venezuela mercantil     NaN    NaN  \n",
              "1  listar quebrar banco gobierno prd prm ano medi...     NaN    NaN  \n",
              "2  partir cola emision bono banco mercantil cibel...     NaN    NaN  \n",
              "3  si sospechar haber ser victimar fraude deber r...     NaN    NaN  \n",
              "4     ir banesco abri alli abrir contar ahorrar s...     NaN    NaN  "
            ],
            "text/html": [
              "\n",
              "  <div id=\"df-5de78acf-c47a-416f-8d7c-c7ace1869dc3\">\n",
              "    <div class=\"colab-df-container\">\n",
              "      <div>\n",
              "<style scoped>\n",
              "    .dataframe tbody tr th:only-of-type {\n",
              "        vertical-align: middle;\n",
              "    }\n",
              "\n",
              "    .dataframe tbody tr th {\n",
              "        vertical-align: top;\n",
              "    }\n",
              "\n",
              "    .dataframe thead th {\n",
              "        text-align: right;\n",
              "    }\n",
              "</style>\n",
              "<table border=\"1\" class=\"dataframe\">\n",
              "  <thead>\n",
              "    <tr style=\"text-align: right;\">\n",
              "      <th></th>\n",
              "      <th>user_id</th>\n",
              "      <th>screen_name</th>\n",
              "      <th>created_at</th>\n",
              "      <th>text</th>\n",
              "      <th>text_process</th>\n",
              "      <th>target</th>\n",
              "      <th>score</th>\n",
              "    </tr>\n",
              "  </thead>\n",
              "  <tbody>\n",
              "    <tr>\n",
              "      <th>0</th>\n",
              "      <td>1.913194e+08</td>\n",
              "      <td>TitoCorona9</td>\n",
              "      <td>2022-02-24 15:55:14</td>\n",
              "      <td>Cual consideran el mejor banco de Venezuela y ...</td>\n",
              "      <td>considerar mejor banco venezuela mercantil</td>\n",
              "      <td>NaN</td>\n",
              "      <td>NaN</td>\n",
              "    </tr>\n",
              "    <tr>\n",
              "      <th>1</th>\n",
              "      <td>4.652935e+09</td>\n",
              "      <td>ElGaboRD</td>\n",
              "      <td>2022-02-03 21:53:15</td>\n",
              "      <td>Listado de Quiebra de Bancos de los gobiernos ...</td>\n",
              "      <td>listar quebrar banco gobierno prd prm ano medi...</td>\n",
              "      <td>NaN</td>\n",
              "      <td>NaN</td>\n",
              "    </tr>\n",
              "    <tr>\n",
              "      <th>2</th>\n",
              "      <td>1.414676e+18</td>\n",
              "      <td>RealSeasonNT1</td>\n",
              "      <td>2022-02-10 20:02:40</td>\n",
              "      <td>Esta parte de la cola de emisión de bonos del ...</td>\n",
              "      <td>partir cola emision bono banco mercantil cibel...</td>\n",
              "      <td>NaN</td>\n",
              "      <td>NaN</td>\n",
              "    </tr>\n",
              "    <tr>\n",
              "      <th>3</th>\n",
              "      <td>1.926909e+08</td>\n",
              "      <td>granfran5012</td>\n",
              "      <td>2021-10-17 00:24:22</td>\n",
              "      <td>Si sospechas que has sido víctima de fraude, d...</td>\n",
              "      <td>si sospechar haber ser victimar fraude deber r...</td>\n",
              "      <td>NaN</td>\n",
              "      <td>NaN</td>\n",
              "    </tr>\n",
              "    <tr>\n",
              "      <th>4</th>\n",
              "      <td>1.926909e+08</td>\n",
              "      <td>granfran5012</td>\n",
              "      <td>2022-02-23 17:48:41</td>\n",
              "      <td>@granfran5012 @MercantilBanco @SudebanInforma ...</td>\n",
              "      <td>ir banesco abri alli abrir contar ahorrar s...</td>\n",
              "      <td>NaN</td>\n",
              "      <td>NaN</td>\n",
              "    </tr>\n",
              "  </tbody>\n",
              "</table>\n",
              "</div>\n",
              "      <button class=\"colab-df-convert\" onclick=\"convertToInteractive('df-5de78acf-c47a-416f-8d7c-c7ace1869dc3')\"\n",
              "              title=\"Convert this dataframe to an interactive table.\"\n",
              "              style=\"display:none;\">\n",
              "        \n",
              "  <svg xmlns=\"http://www.w3.org/2000/svg\" height=\"24px\"viewBox=\"0 0 24 24\"\n",
              "       width=\"24px\">\n",
              "    <path d=\"M0 0h24v24H0V0z\" fill=\"none\"/>\n",
              "    <path d=\"M18.56 5.44l.94 2.06.94-2.06 2.06-.94-2.06-.94-.94-2.06-.94 2.06-2.06.94zm-11 1L8.5 8.5l.94-2.06 2.06-.94-2.06-.94L8.5 2.5l-.94 2.06-2.06.94zm10 10l.94 2.06.94-2.06 2.06-.94-2.06-.94-.94-2.06-.94 2.06-2.06.94z\"/><path d=\"M17.41 7.96l-1.37-1.37c-.4-.4-.92-.59-1.43-.59-.52 0-1.04.2-1.43.59L10.3 9.45l-7.72 7.72c-.78.78-.78 2.05 0 2.83L4 21.41c.39.39.9.59 1.41.59.51 0 1.02-.2 1.41-.59l7.78-7.78 2.81-2.81c.8-.78.8-2.07 0-2.86zM5.41 20L4 18.59l7.72-7.72 1.47 1.35L5.41 20z\"/>\n",
              "  </svg>\n",
              "      </button>\n",
              "      \n",
              "  <style>\n",
              "    .colab-df-container {\n",
              "      display:flex;\n",
              "      flex-wrap:wrap;\n",
              "      gap: 12px;\n",
              "    }\n",
              "\n",
              "    .colab-df-convert {\n",
              "      background-color: #E8F0FE;\n",
              "      border: none;\n",
              "      border-radius: 50%;\n",
              "      cursor: pointer;\n",
              "      display: none;\n",
              "      fill: #1967D2;\n",
              "      height: 32px;\n",
              "      padding: 0 0 0 0;\n",
              "      width: 32px;\n",
              "    }\n",
              "\n",
              "    .colab-df-convert:hover {\n",
              "      background-color: #E2EBFA;\n",
              "      box-shadow: 0px 1px 2px rgba(60, 64, 67, 0.3), 0px 1px 3px 1px rgba(60, 64, 67, 0.15);\n",
              "      fill: #174EA6;\n",
              "    }\n",
              "\n",
              "    [theme=dark] .colab-df-convert {\n",
              "      background-color: #3B4455;\n",
              "      fill: #D2E3FC;\n",
              "    }\n",
              "\n",
              "    [theme=dark] .colab-df-convert:hover {\n",
              "      background-color: #434B5C;\n",
              "      box-shadow: 0px 1px 3px 1px rgba(0, 0, 0, 0.15);\n",
              "      filter: drop-shadow(0px 1px 2px rgba(0, 0, 0, 0.3));\n",
              "      fill: #FFFFFF;\n",
              "    }\n",
              "  </style>\n",
              "\n",
              "      <script>\n",
              "        const buttonEl =\n",
              "          document.querySelector('#df-5de78acf-c47a-416f-8d7c-c7ace1869dc3 button.colab-df-convert');\n",
              "        buttonEl.style.display =\n",
              "          google.colab.kernel.accessAllowed ? 'block' : 'none';\n",
              "\n",
              "        async function convertToInteractive(key) {\n",
              "          const element = document.querySelector('#df-5de78acf-c47a-416f-8d7c-c7ace1869dc3');\n",
              "          const dataTable =\n",
              "            await google.colab.kernel.invokeFunction('convertToInteractive',\n",
              "                                                     [key], {});\n",
              "          if (!dataTable) return;\n",
              "\n",
              "          const docLinkHtml = 'Like what you see? Visit the ' +\n",
              "            '<a target=\"_blank\" href=https://colab.research.google.com/notebooks/data_table.ipynb>data table notebook</a>'\n",
              "            + ' to learn more about interactive tables.';\n",
              "          element.innerHTML = '';\n",
              "          dataTable['output_type'] = 'display_data';\n",
              "          await google.colab.output.renderOutput(dataTable, element);\n",
              "          const docLink = document.createElement('div');\n",
              "          docLink.innerHTML = docLinkHtml;\n",
              "          element.appendChild(docLink);\n",
              "        }\n",
              "      </script>\n",
              "    </div>\n",
              "  </div>\n",
              "  "
            ]
          },
          "metadata": {},
          "execution_count": 99
        }
      ]
    },
    {
      "cell_type": "markdown",
      "source": [
        "**Clasificar comentarios de DataFrame**"
      ],
      "metadata": {
        "id": "xAmXDUYqugBr"
      }
    },
    {
      "cell_type": "code",
      "source": [
        "comentarios.score = comentarios.text_process.apply(lambda x: predict(x)['score']) \n",
        "comentarios.target = comentarios.text_process.apply(lambda x: predict(x)['label'])\n",
        "comentarios.head()"
      ],
      "metadata": {
        "colab": {
          "base_uri": "https://localhost:8080/",
          "height": 337
        },
        "id": "paWPhivguKbJ",
        "outputId": "ff40c8d0-8a3c-4d5a-e8db-cf303215defe"
      },
      "execution_count": 102,
      "outputs": [
        {
          "output_type": "execute_result",
          "data": {
            "text/plain": [
              "        user_id    screen_name          created_at  \\\n",
              "0  1.913194e+08    TitoCorona9 2022-02-24 15:55:14   \n",
              "1  4.652935e+09       ElGaboRD 2022-02-03 21:53:15   \n",
              "2  1.414676e+18  RealSeasonNT1 2022-02-10 20:02:40   \n",
              "3  1.926909e+08   granfran5012 2021-10-17 00:24:22   \n",
              "4  1.926909e+08   granfran5012 2022-02-23 17:48:41   \n",
              "\n",
              "                                                text  \\\n",
              "0  Cual consideran el mejor banco de Venezuela y ...   \n",
              "1  Listado de Quiebra de Bancos de los gobiernos ...   \n",
              "2  Esta parte de la cola de emisión de bonos del ...   \n",
              "3  Si sospechas que has sido víctima de fraude, d...   \n",
              "4  @granfran5012 @MercantilBanco @SudebanInforma ...   \n",
              "\n",
              "                                        text_process    target     score  \n",
              "0         considerar mejor banco venezuela mercantil  POSITIVE  0.532526  \n",
              "1  listar quebrar banco gobierno prd prm ano medi...  POSITIVE  0.529752  \n",
              "2  partir cola emision bono banco mercantil cibel...  POSITIVE  0.581867  \n",
              "3  si sospechar haber ser victimar fraude deber r...  POSITIVE  0.551686  \n",
              "4     ir banesco abri alli abrir contar ahorrar s...  POSITIVE  0.577103  "
            ],
            "text/html": [
              "\n",
              "  <div id=\"df-fc4f2828-863c-4485-a245-a4872a737df3\">\n",
              "    <div class=\"colab-df-container\">\n",
              "      <div>\n",
              "<style scoped>\n",
              "    .dataframe tbody tr th:only-of-type {\n",
              "        vertical-align: middle;\n",
              "    }\n",
              "\n",
              "    .dataframe tbody tr th {\n",
              "        vertical-align: top;\n",
              "    }\n",
              "\n",
              "    .dataframe thead th {\n",
              "        text-align: right;\n",
              "    }\n",
              "</style>\n",
              "<table border=\"1\" class=\"dataframe\">\n",
              "  <thead>\n",
              "    <tr style=\"text-align: right;\">\n",
              "      <th></th>\n",
              "      <th>user_id</th>\n",
              "      <th>screen_name</th>\n",
              "      <th>created_at</th>\n",
              "      <th>text</th>\n",
              "      <th>text_process</th>\n",
              "      <th>target</th>\n",
              "      <th>score</th>\n",
              "    </tr>\n",
              "  </thead>\n",
              "  <tbody>\n",
              "    <tr>\n",
              "      <th>0</th>\n",
              "      <td>1.913194e+08</td>\n",
              "      <td>TitoCorona9</td>\n",
              "      <td>2022-02-24 15:55:14</td>\n",
              "      <td>Cual consideran el mejor banco de Venezuela y ...</td>\n",
              "      <td>considerar mejor banco venezuela mercantil</td>\n",
              "      <td>POSITIVE</td>\n",
              "      <td>0.532526</td>\n",
              "    </tr>\n",
              "    <tr>\n",
              "      <th>1</th>\n",
              "      <td>4.652935e+09</td>\n",
              "      <td>ElGaboRD</td>\n",
              "      <td>2022-02-03 21:53:15</td>\n",
              "      <td>Listado de Quiebra de Bancos de los gobiernos ...</td>\n",
              "      <td>listar quebrar banco gobierno prd prm ano medi...</td>\n",
              "      <td>POSITIVE</td>\n",
              "      <td>0.529752</td>\n",
              "    </tr>\n",
              "    <tr>\n",
              "      <th>2</th>\n",
              "      <td>1.414676e+18</td>\n",
              "      <td>RealSeasonNT1</td>\n",
              "      <td>2022-02-10 20:02:40</td>\n",
              "      <td>Esta parte de la cola de emisión de bonos del ...</td>\n",
              "      <td>partir cola emision bono banco mercantil cibel...</td>\n",
              "      <td>POSITIVE</td>\n",
              "      <td>0.581867</td>\n",
              "    </tr>\n",
              "    <tr>\n",
              "      <th>3</th>\n",
              "      <td>1.926909e+08</td>\n",
              "      <td>granfran5012</td>\n",
              "      <td>2021-10-17 00:24:22</td>\n",
              "      <td>Si sospechas que has sido víctima de fraude, d...</td>\n",
              "      <td>si sospechar haber ser victimar fraude deber r...</td>\n",
              "      <td>POSITIVE</td>\n",
              "      <td>0.551686</td>\n",
              "    </tr>\n",
              "    <tr>\n",
              "      <th>4</th>\n",
              "      <td>1.926909e+08</td>\n",
              "      <td>granfran5012</td>\n",
              "      <td>2022-02-23 17:48:41</td>\n",
              "      <td>@granfran5012 @MercantilBanco @SudebanInforma ...</td>\n",
              "      <td>ir banesco abri alli abrir contar ahorrar s...</td>\n",
              "      <td>POSITIVE</td>\n",
              "      <td>0.577103</td>\n",
              "    </tr>\n",
              "  </tbody>\n",
              "</table>\n",
              "</div>\n",
              "      <button class=\"colab-df-convert\" onclick=\"convertToInteractive('df-fc4f2828-863c-4485-a245-a4872a737df3')\"\n",
              "              title=\"Convert this dataframe to an interactive table.\"\n",
              "              style=\"display:none;\">\n",
              "        \n",
              "  <svg xmlns=\"http://www.w3.org/2000/svg\" height=\"24px\"viewBox=\"0 0 24 24\"\n",
              "       width=\"24px\">\n",
              "    <path d=\"M0 0h24v24H0V0z\" fill=\"none\"/>\n",
              "    <path d=\"M18.56 5.44l.94 2.06.94-2.06 2.06-.94-2.06-.94-.94-2.06-.94 2.06-2.06.94zm-11 1L8.5 8.5l.94-2.06 2.06-.94-2.06-.94L8.5 2.5l-.94 2.06-2.06.94zm10 10l.94 2.06.94-2.06 2.06-.94-2.06-.94-.94-2.06-.94 2.06-2.06.94z\"/><path d=\"M17.41 7.96l-1.37-1.37c-.4-.4-.92-.59-1.43-.59-.52 0-1.04.2-1.43.59L10.3 9.45l-7.72 7.72c-.78.78-.78 2.05 0 2.83L4 21.41c.39.39.9.59 1.41.59.51 0 1.02-.2 1.41-.59l7.78-7.78 2.81-2.81c.8-.78.8-2.07 0-2.86zM5.41 20L4 18.59l7.72-7.72 1.47 1.35L5.41 20z\"/>\n",
              "  </svg>\n",
              "      </button>\n",
              "      \n",
              "  <style>\n",
              "    .colab-df-container {\n",
              "      display:flex;\n",
              "      flex-wrap:wrap;\n",
              "      gap: 12px;\n",
              "    }\n",
              "\n",
              "    .colab-df-convert {\n",
              "      background-color: #E8F0FE;\n",
              "      border: none;\n",
              "      border-radius: 50%;\n",
              "      cursor: pointer;\n",
              "      display: none;\n",
              "      fill: #1967D2;\n",
              "      height: 32px;\n",
              "      padding: 0 0 0 0;\n",
              "      width: 32px;\n",
              "    }\n",
              "\n",
              "    .colab-df-convert:hover {\n",
              "      background-color: #E2EBFA;\n",
              "      box-shadow: 0px 1px 2px rgba(60, 64, 67, 0.3), 0px 1px 3px 1px rgba(60, 64, 67, 0.15);\n",
              "      fill: #174EA6;\n",
              "    }\n",
              "\n",
              "    [theme=dark] .colab-df-convert {\n",
              "      background-color: #3B4455;\n",
              "      fill: #D2E3FC;\n",
              "    }\n",
              "\n",
              "    [theme=dark] .colab-df-convert:hover {\n",
              "      background-color: #434B5C;\n",
              "      box-shadow: 0px 1px 3px 1px rgba(0, 0, 0, 0.15);\n",
              "      filter: drop-shadow(0px 1px 2px rgba(0, 0, 0, 0.3));\n",
              "      fill: #FFFFFF;\n",
              "    }\n",
              "  </style>\n",
              "\n",
              "      <script>\n",
              "        const buttonEl =\n",
              "          document.querySelector('#df-fc4f2828-863c-4485-a245-a4872a737df3 button.colab-df-convert');\n",
              "        buttonEl.style.display =\n",
              "          google.colab.kernel.accessAllowed ? 'block' : 'none';\n",
              "\n",
              "        async function convertToInteractive(key) {\n",
              "          const element = document.querySelector('#df-fc4f2828-863c-4485-a245-a4872a737df3');\n",
              "          const dataTable =\n",
              "            await google.colab.kernel.invokeFunction('convertToInteractive',\n",
              "                                                     [key], {});\n",
              "          if (!dataTable) return;\n",
              "\n",
              "          const docLinkHtml = 'Like what you see? Visit the ' +\n",
              "            '<a target=\"_blank\" href=https://colab.research.google.com/notebooks/data_table.ipynb>data table notebook</a>'\n",
              "            + ' to learn more about interactive tables.';\n",
              "          element.innerHTML = '';\n",
              "          dataTable['output_type'] = 'display_data';\n",
              "          await google.colab.output.renderOutput(dataTable, element);\n",
              "          const docLink = document.createElement('div');\n",
              "          docLink.innerHTML = docLinkHtml;\n",
              "          element.appendChild(docLink);\n",
              "        }\n",
              "      </script>\n",
              "    </div>\n",
              "  </div>\n",
              "  "
            ]
          },
          "metadata": {},
          "execution_count": 102
        }
      ]
    },
    {
      "cell_type": "markdown",
      "source": [
        "### **REVISIÓN**"
      ],
      "metadata": {
        "id": "zYCUdolD5Zhb"
      }
    },
    {
      "cell_type": "code",
      "source": [
        "comentarios.groupby('target').count() # cuenta según clasificación"
      ],
      "metadata": {
        "colab": {
          "base_uri": "https://localhost:8080/",
          "height": 143
        },
        "id": "jetoz4Giut9C",
        "outputId": "ed8e1d67-7998-407b-be69-44f8def96054"
      },
      "execution_count": 103,
      "outputs": [
        {
          "output_type": "execute_result",
          "data": {
            "text/plain": [
              "          user_id  screen_name  created_at  text  text_process  score\n",
              "target                                                               \n",
              "NEGATIVE       31           31          31    31            31     31\n",
              "POSITIVE       26           26          26    26            26     26"
            ],
            "text/html": [
              "\n",
              "  <div id=\"df-fe763413-e3ac-4805-afd1-9f39a89d4ded\">\n",
              "    <div class=\"colab-df-container\">\n",
              "      <div>\n",
              "<style scoped>\n",
              "    .dataframe tbody tr th:only-of-type {\n",
              "        vertical-align: middle;\n",
              "    }\n",
              "\n",
              "    .dataframe tbody tr th {\n",
              "        vertical-align: top;\n",
              "    }\n",
              "\n",
              "    .dataframe thead th {\n",
              "        text-align: right;\n",
              "    }\n",
              "</style>\n",
              "<table border=\"1\" class=\"dataframe\">\n",
              "  <thead>\n",
              "    <tr style=\"text-align: right;\">\n",
              "      <th></th>\n",
              "      <th>user_id</th>\n",
              "      <th>screen_name</th>\n",
              "      <th>created_at</th>\n",
              "      <th>text</th>\n",
              "      <th>text_process</th>\n",
              "      <th>score</th>\n",
              "    </tr>\n",
              "    <tr>\n",
              "      <th>target</th>\n",
              "      <th></th>\n",
              "      <th></th>\n",
              "      <th></th>\n",
              "      <th></th>\n",
              "      <th></th>\n",
              "      <th></th>\n",
              "    </tr>\n",
              "  </thead>\n",
              "  <tbody>\n",
              "    <tr>\n",
              "      <th>NEGATIVE</th>\n",
              "      <td>31</td>\n",
              "      <td>31</td>\n",
              "      <td>31</td>\n",
              "      <td>31</td>\n",
              "      <td>31</td>\n",
              "      <td>31</td>\n",
              "    </tr>\n",
              "    <tr>\n",
              "      <th>POSITIVE</th>\n",
              "      <td>26</td>\n",
              "      <td>26</td>\n",
              "      <td>26</td>\n",
              "      <td>26</td>\n",
              "      <td>26</td>\n",
              "      <td>26</td>\n",
              "    </tr>\n",
              "  </tbody>\n",
              "</table>\n",
              "</div>\n",
              "      <button class=\"colab-df-convert\" onclick=\"convertToInteractive('df-fe763413-e3ac-4805-afd1-9f39a89d4ded')\"\n",
              "              title=\"Convert this dataframe to an interactive table.\"\n",
              "              style=\"display:none;\">\n",
              "        \n",
              "  <svg xmlns=\"http://www.w3.org/2000/svg\" height=\"24px\"viewBox=\"0 0 24 24\"\n",
              "       width=\"24px\">\n",
              "    <path d=\"M0 0h24v24H0V0z\" fill=\"none\"/>\n",
              "    <path d=\"M18.56 5.44l.94 2.06.94-2.06 2.06-.94-2.06-.94-.94-2.06-.94 2.06-2.06.94zm-11 1L8.5 8.5l.94-2.06 2.06-.94-2.06-.94L8.5 2.5l-.94 2.06-2.06.94zm10 10l.94 2.06.94-2.06 2.06-.94-2.06-.94-.94-2.06-.94 2.06-2.06.94z\"/><path d=\"M17.41 7.96l-1.37-1.37c-.4-.4-.92-.59-1.43-.59-.52 0-1.04.2-1.43.59L10.3 9.45l-7.72 7.72c-.78.78-.78 2.05 0 2.83L4 21.41c.39.39.9.59 1.41.59.51 0 1.02-.2 1.41-.59l7.78-7.78 2.81-2.81c.8-.78.8-2.07 0-2.86zM5.41 20L4 18.59l7.72-7.72 1.47 1.35L5.41 20z\"/>\n",
              "  </svg>\n",
              "      </button>\n",
              "      \n",
              "  <style>\n",
              "    .colab-df-container {\n",
              "      display:flex;\n",
              "      flex-wrap:wrap;\n",
              "      gap: 12px;\n",
              "    }\n",
              "\n",
              "    .colab-df-convert {\n",
              "      background-color: #E8F0FE;\n",
              "      border: none;\n",
              "      border-radius: 50%;\n",
              "      cursor: pointer;\n",
              "      display: none;\n",
              "      fill: #1967D2;\n",
              "      height: 32px;\n",
              "      padding: 0 0 0 0;\n",
              "      width: 32px;\n",
              "    }\n",
              "\n",
              "    .colab-df-convert:hover {\n",
              "      background-color: #E2EBFA;\n",
              "      box-shadow: 0px 1px 2px rgba(60, 64, 67, 0.3), 0px 1px 3px 1px rgba(60, 64, 67, 0.15);\n",
              "      fill: #174EA6;\n",
              "    }\n",
              "\n",
              "    [theme=dark] .colab-df-convert {\n",
              "      background-color: #3B4455;\n",
              "      fill: #D2E3FC;\n",
              "    }\n",
              "\n",
              "    [theme=dark] .colab-df-convert:hover {\n",
              "      background-color: #434B5C;\n",
              "      box-shadow: 0px 1px 3px 1px rgba(0, 0, 0, 0.15);\n",
              "      filter: drop-shadow(0px 1px 2px rgba(0, 0, 0, 0.3));\n",
              "      fill: #FFFFFF;\n",
              "    }\n",
              "  </style>\n",
              "\n",
              "      <script>\n",
              "        const buttonEl =\n",
              "          document.querySelector('#df-fe763413-e3ac-4805-afd1-9f39a89d4ded button.colab-df-convert');\n",
              "        buttonEl.style.display =\n",
              "          google.colab.kernel.accessAllowed ? 'block' : 'none';\n",
              "\n",
              "        async function convertToInteractive(key) {\n",
              "          const element = document.querySelector('#df-fe763413-e3ac-4805-afd1-9f39a89d4ded');\n",
              "          const dataTable =\n",
              "            await google.colab.kernel.invokeFunction('convertToInteractive',\n",
              "                                                     [key], {});\n",
              "          if (!dataTable) return;\n",
              "\n",
              "          const docLinkHtml = 'Like what you see? Visit the ' +\n",
              "            '<a target=\"_blank\" href=https://colab.research.google.com/notebooks/data_table.ipynb>data table notebook</a>'\n",
              "            + ' to learn more about interactive tables.';\n",
              "          element.innerHTML = '';\n",
              "          dataTable['output_type'] = 'display_data';\n",
              "          await google.colab.output.renderOutput(dataTable, element);\n",
              "          const docLink = document.createElement('div');\n",
              "          docLink.innerHTML = docLinkHtml;\n",
              "          element.appendChild(docLink);\n",
              "        }\n",
              "      </script>\n",
              "    </div>\n",
              "  </div>\n",
              "  "
            ]
          },
          "metadata": {},
          "execution_count": 103
        }
      ]
    },
    {
      "cell_type": "code",
      "source": [
        "comentarios.loc[comentarios['target']== 'NEGATIVE'] #muestra comentarios negativos"
      ],
      "metadata": {
        "id": "GdLh1ibR4bhu"
      },
      "execution_count": null,
      "outputs": []
    },
    {
      "cell_type": "code",
      "source": [
        "print(comentarios['target'][21]) #muetra clasificación particular\n",
        "comentarios['text'][21] #muestra comentarios particular"
      ],
      "metadata": {
        "colab": {
          "base_uri": "https://localhost:8080/",
          "height": 36
        },
        "id": "7smZwemx30b9",
        "outputId": "b99c091b-15b9-478e-8291-c2c390a057b3"
      },
      "execution_count": 112,
      "outputs": [
        {
          "output_type": "execute_result",
          "data": {
            "text/plain": [
              "'Venezuela es el único país donde solicitar la reposición de una tarjeta te dicen que es un favor y no un servicio. Gracias @MercantilBanco'"
            ],
            "application/vnd.google.colaboratory.intrinsic+json": {
              "type": "string"
            }
          },
          "metadata": {},
          "execution_count": 112
        }
      ]
    },
    {
      "cell_type": "markdown",
      "source": [
        "## Guarda excel nuevo"
      ],
      "metadata": {
        "id": "eTwIiSXqvlI_"
      }
    },
    {
      "cell_type": "code",
      "source": [
        "comentarios.to_excel('/content/drive/MyDrive/Mercantil/analisis_influencer/comen_class_feb.xlsx') #Escribir nombre y ruta de preferencia"
      ],
      "metadata": {
        "id": "7MwNcNlC7LwI"
      },
      "execution_count": null,
      "outputs": []
    }
  ]
}